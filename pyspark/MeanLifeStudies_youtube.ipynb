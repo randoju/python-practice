{
 "cells": [
  {
   "metadata": {},
   "cell_type": "markdown",
   "source": [
    "7Q.list of cumilative totals and cumilative ducts\n",
    "\n"
   ],
   "id": "6918ff10f1489d28"
  },
  {
   "cell_type": "code",
   "id": "initial_id",
   "metadata": {
    "collapsed": true,
    "ExecuteTime": {
     "end_time": "2025-06-21T16:17:16.709020Z",
     "start_time": "2025-06-21T16:17:16.701767Z"
    }
   },
   "source": [
    "lst = [1,8,3,5,19]\n",
    "a=0\n",
    "cum_sum=[]\n",
    "for i in lst:\n",
    "    a += i\n",
    "    cum_sum.append(a)\n",
    "print(cum_sum)\n",
    "\n"
   ],
   "outputs": [
    {
     "name": "stdout",
     "output_type": "stream",
     "text": [
      "[1, 9, 12, 17, 36]\n"
     ]
    }
   ],
   "execution_count": 3
  },
  {
   "metadata": {},
   "cell_type": "markdown",
   "source": "6Q. to return the list of palindromic numbers to the given number\n",
   "id": "1daffc8d02eda4fe"
  },
  {
   "metadata": {
    "ExecuteTime": {
     "end_time": "2025-06-21T16:34:51.207391Z",
     "start_time": "2025-06-21T16:34:51.200569Z"
    }
   },
   "cell_type": "code",
   "source": [
    "s = 'madams'\n",
    "reverse = s[::-1]\n",
    "if (s==reverse):\n",
    "    print(\"yes its a palindrome\")\n",
    "else:\n",
    "    print(\"no its a palindrome\")\n",
    "\n",
    "https://www.youtube.com/watch?v=b70OBlo-r2M&ab_channel=SudhakarAtchala"
   ],
   "id": "3197a43225020950",
   "outputs": [
    {
     "name": "stdout",
     "output_type": "stream",
     "text": [
      "no its a palindrome\n"
     ]
    }
   ],
   "execution_count": 6
  },
  {
   "metadata": {
    "ExecuteTime": {
     "end_time": "2025-06-21T18:29:45.273759Z",
     "start_time": "2025-06-21T18:29:41.478681Z"
    }
   },
   "cell_type": "code",
   "source": [
    "n = int(input(\"enter the no\"))\n",
    "pal = n\n",
    "rev = 0\n",
    "while n>0:\n",
    "    r = n%10\n",
    "    rev = rev *10+r\n",
    "    n = n//10\n",
    "if rev == pal:\n",
    "    print(\"palindrome\")\n",
    "else:\n",
    "    print(\"not palindrome\")\n"
   ],
   "id": "acae8959976de6d3",
   "outputs": [
    {
     "name": "stdout",
     "output_type": "stream",
     "text": [
      "not palindrome\n"
     ]
    }
   ],
   "execution_count": 11
  },
  {
   "metadata": {},
   "cell_type": "markdown",
   "source": "5Q. write a programto return the list of factoreial values up to the given number by using recursive function https://www.youtube.com/watch?v=tcNl9WFq6Ps&list=PLrnQovDPlczPd7KJHoi0DFbQyIlM2EJnL&index=3&ab_channel=MeanLifeStudies",
   "id": "648495b9af822cae"
  },
  {
   "metadata": {
    "ExecuteTime": {
     "end_time": "2025-06-21T18:54:14.543209Z",
     "start_time": "2025-06-21T18:54:11.276344Z"
    }
   },
   "cell_type": "code",
   "source": [
    "# Recursive function to calculate factorial\n",
    "def factorial(k):\n",
    "    if k == 0 or k == 1:\n",
    "        return 1\n",
    "    else:\n",
    "        return k * factorial(k - 1)\n",
    "\n",
    "# Get input number\n",
    "n = int(input(\"Enter a number to find factorial values up to: \"))\n",
    "\n",
    "# Initialize list to store factorials\n",
    "factorial_list = []\n",
    "\n",
    "# Build list of factorials from 1 to n\n",
    "for i in range(1, n + 1):\n",
    "    fact = factorial(i)\n",
    "    factorial_list.append(fact)\n",
    "\n",
    "# Print result\n",
    "print(\"Factorial values up to\", n, \":\", factorial_list)"
   ],
   "id": "8c585dc1e7fbb8a1",
   "outputs": [
    {
     "name": "stdout",
     "output_type": "stream",
     "text": [
      "Factorial values up to 5 : [1, 2, 6, 24, 120]\n"
     ]
    }
   ],
   "execution_count": 12
  },
  {
   "metadata": {},
   "cell_type": "markdown",
   "source": "4q. What is a List Comprehension in python? explain it by writing code.",
   "id": "c6e93ab97960d8b4"
  }
 ],
 "metadata": {
  "kernelspec": {
   "display_name": "Python 3",
   "language": "python",
   "name": "python3"
  },
  "language_info": {
   "codemirror_mode": {
    "name": "ipython",
    "version": 2
   },
   "file_extension": ".py",
   "mimetype": "text/x-python",
   "name": "python",
   "nbconvert_exporter": "python",
   "pygments_lexer": "ipython2",
   "version": "2.7.6"
  }
 },
 "nbformat": 4,
 "nbformat_minor": 5
}
